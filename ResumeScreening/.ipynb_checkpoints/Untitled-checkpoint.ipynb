{
 "cells": [
  {
   "cell_type": "code",
   "execution_count": null,
   "metadata": {},
   "outputs": [],
   "source": []
  },
  {
   "cell_type": "code",
   "execution_count": 41,
   "metadata": {},
   "outputs": [],
   "source": [
    "## Importing the libraries\n",
    "\n",
    "import pandas as pd\n",
    "import numpy as np\n",
    "import re\n",
    "import pickle\n",
    "import seaborn as sns\n",
    "import matplotlib.pyplot as plt\n",
    "import nltk\n",
    "from nltk.corpus import stopwords\n",
    "from wordcloud import WordCloud\n",
    "from sklearn.feature_extraction.text import TfidfVectorizer\n",
    "from sklearn.feature_extraction.text import TfidfTransformer\n",
    "from sklearn.model_selection import train_test_split\n",
    "from sklearn.metrics import precision_score\n",
    "from sklearn.metrics import accuracy_score\n",
    "from sklearn.metrics import confusion_matrix"
   ]
  },
  {
   "cell_type": "code",
   "execution_count": 2,
   "metadata": {},
   "outputs": [
    {
     "data": {
      "text/html": [
       "<div>\n",
       "<style scoped>\n",
       "    .dataframe tbody tr th:only-of-type {\n",
       "        vertical-align: middle;\n",
       "    }\n",
       "\n",
       "    .dataframe tbody tr th {\n",
       "        vertical-align: top;\n",
       "    }\n",
       "\n",
       "    .dataframe thead th {\n",
       "        text-align: right;\n",
       "    }\n",
       "</style>\n",
       "<table border=\"1\" class=\"dataframe\">\n",
       "  <thead>\n",
       "    <tr style=\"text-align: right;\">\n",
       "      <th></th>\n",
       "      <th>Category</th>\n",
       "      <th>Resume</th>\n",
       "    </tr>\n",
       "  </thead>\n",
       "  <tbody>\n",
       "    <tr>\n",
       "      <th>0</th>\n",
       "      <td>Data Science</td>\n",
       "      <td>Skills * Programming Languages: Python (pandas...</td>\n",
       "    </tr>\n",
       "    <tr>\n",
       "      <th>1</th>\n",
       "      <td>Data Science</td>\n",
       "      <td>Education Details \\r\\nMay 2013 to May 2017 B.E...</td>\n",
       "    </tr>\n",
       "    <tr>\n",
       "      <th>2</th>\n",
       "      <td>Data Science</td>\n",
       "      <td>Areas of Interest Deep Learning, Control Syste...</td>\n",
       "    </tr>\n",
       "    <tr>\n",
       "      <th>3</th>\n",
       "      <td>Data Science</td>\n",
       "      <td>Skills â¢ R â¢ Python â¢ SAP HANA â¢ Table...</td>\n",
       "    </tr>\n",
       "    <tr>\n",
       "      <th>4</th>\n",
       "      <td>Data Science</td>\n",
       "      <td>Education Details \\r\\n MCA   YMCAUST,  Faridab...</td>\n",
       "    </tr>\n",
       "  </tbody>\n",
       "</table>\n",
       "</div>"
      ],
      "text/plain": [
       "       Category                                             Resume\n",
       "0  Data Science  Skills * Programming Languages: Python (pandas...\n",
       "1  Data Science  Education Details \\r\\nMay 2013 to May 2017 B.E...\n",
       "2  Data Science  Areas of Interest Deep Learning, Control Syste...\n",
       "3  Data Science  Skills â¢ R â¢ Python â¢ SAP HANA â¢ Table...\n",
       "4  Data Science  Education Details \\r\\n MCA   YMCAUST,  Faridab..."
      ]
     },
     "execution_count": 2,
     "metadata": {},
     "output_type": "execute_result"
    }
   ],
   "source": [
    "# importing the dataset\n",
    "\n",
    "df = pd.read_csv('UpdatedResumeDataSet.csv',encoding='utf-8')\n",
    "df.head()"
   ]
  },
  {
   "cell_type": "code",
   "execution_count": 3,
   "metadata": {},
   "outputs": [
    {
     "name": "stdout",
     "output_type": "stream",
     "text": [
      "<class 'pandas.core.frame.DataFrame'>\n",
      "RangeIndex: 962 entries, 0 to 961\n",
      "Data columns (total 2 columns):\n",
      " #   Column    Non-Null Count  Dtype \n",
      "---  ------    --------------  ----- \n",
      " 0   Category  962 non-null    object\n",
      " 1   Resume    962 non-null    object\n",
      "dtypes: object(2)\n",
      "memory usage: 15.2+ KB\n"
     ]
    }
   ],
   "source": [
    "# Checking full dataset information\n",
    "df.info()"
   ]
  },
  {
   "cell_type": "code",
   "execution_count": 4,
   "metadata": {},
   "outputs": [
    {
     "data": {
      "text/plain": [
       "Category    0\n",
       "Resume      0\n",
       "dtype: int64"
      ]
     },
     "execution_count": 4,
     "metadata": {},
     "output_type": "execute_result"
    }
   ],
   "source": [
    "# CHecking for missing values in the dataset\n",
    "df.isnull().sum()"
   ]
  },
  {
   "cell_type": "markdown",
   "metadata": {},
   "source": [
    "### Unique categories and total count of eachh category"
   ]
  },
  {
   "cell_type": "code",
   "execution_count": 5,
   "metadata": {},
   "outputs": [
    {
     "data": {
      "text/plain": [
       "Java Developer               84\n",
       "Testing                      70\n",
       "DevOps Engineer              55\n",
       "Python Developer             48\n",
       "Web Designing                45\n",
       "HR                           44\n",
       "Hadoop                       42\n",
       "Blockchain                   40\n",
       "Operations Manager           40\n",
       "Data Science                 40\n",
       "ETL Developer                40\n",
       "Mechanical Engineer          40\n",
       "Sales                        40\n",
       "Arts                         36\n",
       "Database                     33\n",
       "PMO                          30\n",
       "Health and fitness           30\n",
       "Electrical Engineering       30\n",
       "Business Analyst             28\n",
       "DotNet Developer             28\n",
       "Automation Testing           26\n",
       "Network Security Engineer    25\n",
       "SAP Developer                24\n",
       "Civil Engineer               24\n",
       "Advocate                     20\n",
       "Name: Category, dtype: int64"
      ]
     },
     "execution_count": 5,
     "metadata": {},
     "output_type": "execute_result"
    }
   ],
   "source": [
    "df['Category'].value_counts()"
   ]
  },
  {
   "cell_type": "markdown",
   "metadata": {},
   "source": [
    "### Plotting the Categories and its count"
   ]
  },
  {
   "cell_type": "code",
   "execution_count": 6,
   "metadata": {},
   "outputs": [
    {
     "data": {
      "text/plain": [
       "<matplotlib.axes._subplots.AxesSubplot at 0x273806f2448>"
      ]
     },
     "execution_count": 6,
     "metadata": {},
     "output_type": "execute_result"
    },
    {
     "data": {
      "image/png": "[encoded data removed]",
      "text/plain": [
       "<Figure size 1080x720 with 1 Axes>"
      ]
     },
     "metadata": {
      "needs_background": "light"
     },
     "output_type": "display_data"
    }
   ],
   "source": [
    "plt.figure(figsize=(15,10))\n",
    "sns.countplot(y='Category',data=df)"
   ]
  },
  {
   "cell_type": "code",
   "execution_count": 7,
   "metadata": {},
   "outputs": [
    {
     "data": {
      "text/plain": [
       "'Areas of Interest Deep Learning, Control System Design, Programming in-Python, Electric Machinery, Web Development, Analytics Technical Activities q Hindustan Aeronautics Limited, Bangalore - For 4 weeks under the guidance of Mr. Satish, Senior Engineer in the hangar of Mirage 2000 fighter aircraft Technical Skills Programming Matlab, Python and Java, LabView, Python WebFrameWork-Django, Flask, LTSPICE-intermediate Languages and and MIPOWER-intermediate, Github (GitBash), Jupyter Notebook, Xampp, MySQL-Basics, Python Software Packages Interpreters-Anaconda, Python2, Python3, Pycharm, Java IDE-Eclipse Operating Systems Windows, Ubuntu, Debian-Kali Linux Education Details \\r\\nJanuary 2019 B.Tech. Electrical and Electronics Engineering  Manipal Institute of Technology\\r\\nJanuary 2015    DEEKSHA CENTER\\r\\nJanuary 2013    Little Flower Public School\\r\\nAugust 2000    Manipal Academy of Higher\\r\\nDATA SCIENCE \\r\\n\\r\\nDATA SCIENCE AND ELECTRICAL ENTHUSIAST\\r\\nSkill Details \\r\\nData Analysis- Exprience - Less than 1 year months\\r\\nexcel- Exprience - Less than 1 year months\\r\\nMachine Learning- Exprience - Less than 1 year months\\r\\nmathematics- Exprience - Less than 1 year months\\r\\nPython- Exprience - Less than 1 year months\\r\\nMatlab- Exprience - Less than 1 year months\\r\\nElectrical Engineering- Exprience - Less than 1 year months\\r\\nSql- Exprience - Less than 1 year monthsCompany Details \\r\\ncompany - THEMATHCOMPANY\\r\\ndescription - I am currently working with a Casino based operator(name not to be disclosed) in Macau.I need to segment the customers who visit their property based on the value the patrons bring into the company.Basically prove that the segmentation can be done in much better way than the current system which they have with proper numbers to back it up.Henceforth they can implement target marketing strategy to attract their customers who add value to the business.'"
      ]
     },
     "execution_count": 7,
     "metadata": {},
     "output_type": "execute_result"
    }
   ],
   "source": [
    "df['Resume'][2]"
   ]
  },
  {
   "cell_type": "code",
   "execution_count": 8,
   "metadata": {},
   "outputs": [],
   "source": [
    "def preProcess(text):\n",
    "    text = re.sub(r\"\\W\",\" \",text)\n",
    "    text = text.lower()\n",
    "    text = re.sub(r\"http:\\S+s*\",\" \",text)\n",
    "    text = re.sub(r\"\\s+[a-zA-Z]\\s+\",\" \",text)\n",
    "    text = re.sub(r\"\\s+\",\" \",text)\n",
    "    \n",
    "    return text\n",
    "\n",
    "df['cleaned_resume'] = df['Resume'].apply(lambda x: preProcess(x))\n",
    "    "
   ]
  },
  {
   "cell_type": "code",
   "execution_count": 9,
   "metadata": {},
   "outputs": [
    {
     "data": {
      "text/html": [
       "<div>\n",
       "<style scoped>\n",
       "    .dataframe tbody tr th:only-of-type {\n",
       "        vertical-align: middle;\n",
       "    }\n",
       "\n",
       "    .dataframe tbody tr th {\n",
       "        vertical-align: top;\n",
       "    }\n",
       "\n",
       "    .dataframe thead th {\n",
       "        text-align: right;\n",
       "    }\n",
       "</style>\n",
       "<table border=\"1\" class=\"dataframe\">\n",
       "  <thead>\n",
       "    <tr style=\"text-align: right;\">\n",
       "      <th></th>\n",
       "      <th>Category</th>\n",
       "      <th>Resume</th>\n",
       "      <th>cleaned_resume</th>\n",
       "    </tr>\n",
       "  </thead>\n",
       "  <tbody>\n",
       "    <tr>\n",
       "      <th>0</th>\n",
       "      <td>Data Science</td>\n",
       "      <td>Skills * Programming Languages: Python (pandas...</td>\n",
       "      <td>skills programming languages python pandas num...</td>\n",
       "    </tr>\n",
       "    <tr>\n",
       "      <th>1</th>\n",
       "      <td>Data Science</td>\n",
       "      <td>Education Details \\r\\nMay 2013 to May 2017 B.E...</td>\n",
       "      <td>education details may 2013 to may 2017 e uit r...</td>\n",
       "    </tr>\n",
       "    <tr>\n",
       "      <th>2</th>\n",
       "      <td>Data Science</td>\n",
       "      <td>Areas of Interest Deep Learning, Control Syste...</td>\n",
       "      <td>areas of interest deep learning control system...</td>\n",
       "    </tr>\n",
       "    <tr>\n",
       "      <th>3</th>\n",
       "      <td>Data Science</td>\n",
       "      <td>Skills â¢ R â¢ Python â¢ SAP HANA â¢ Table...</td>\n",
       "      <td>skills â â python â sap hana â tableau â sap h...</td>\n",
       "    </tr>\n",
       "    <tr>\n",
       "      <th>4</th>\n",
       "      <td>Data Science</td>\n",
       "      <td>Education Details \\r\\n MCA   YMCAUST,  Faridab...</td>\n",
       "      <td>education details mca ymcaust faridabad haryan...</td>\n",
       "    </tr>\n",
       "  </tbody>\n",
       "</table>\n",
       "</div>"
      ],
      "text/plain": [
       "       Category                                             Resume  \\\n",
       "0  Data Science  Skills * Programming Languages: Python (pandas...   \n",
       "1  Data Science  Education Details \\r\\nMay 2013 to May 2017 B.E...   \n",
       "2  Data Science  Areas of Interest Deep Learning, Control Syste...   \n",
       "3  Data Science  Skills â¢ R â¢ Python â¢ SAP HANA â¢ Table...   \n",
       "4  Data Science  Education Details \\r\\n MCA   YMCAUST,  Faridab...   \n",
       "\n",
       "                                      cleaned_resume  \n",
       "0  skills programming languages python pandas num...  \n",
       "1  education details may 2013 to may 2017 e uit r...  \n",
       "2  areas of interest deep learning control system...  \n",
       "3  skills â â python â sap hana â tableau â sap h...  \n",
       "4  education details mca ymcaust faridabad haryan...  "
      ]
     },
     "execution_count": 9,
     "metadata": {},
     "output_type": "execute_result"
    }
   ],
   "source": [
    "df.head()"
   ]
  },
  {
   "cell_type": "code",
   "execution_count": 10,
   "metadata": {},
   "outputs": [
    {
     "data": {
      "text/plain": [
       "'skills basics iot python matlab data science machine learning html microsoft word microsoft excel microsoft powerpoint recognition academic secured first place in tech education details august 2014 to may 2018 tech ghatkesar andhra pradesh aurora scientific and technological institute june 2012 to may 2014 secondary education warangal telangana sr junior college data science skill details ms office exprience less than 1 year months exprience less than 1 year months machine learning exprience less than 1 year months data science exprience less than 1 year months matlab exprience less than 1 year monthscompany details company description '"
      ]
     },
     "execution_count": 10,
     "metadata": {},
     "output_type": "execute_result"
    }
   ],
   "source": [
    "df['cleaned_resume'][5]"
   ]
  },
  {
   "cell_type": "code",
   "execution_count": 11,
   "metadata": {},
   "outputs": [
    {
     "data": {
      "text/plain": [
       "\"SKILLS C Basics, IOT, Python, MATLAB, Data Science, Machine Learning, HTML, Microsoft Word, Microsoft Excel, Microsoft Powerpoint. RECOGNITION Academic Secured First place in B.Tech.Education Details \\r\\nAugust 2014 to May 2018 B.Tech.  Ghatkesar, Andhra Pradesh Aurora's Scientific and Technological Institute\\r\\nJune 2012 to May 2014  Secondary Education Warangal, Telangana SR Junior College\\r\\nData Science \\r\\n\\r\\n\\r\\nSkill Details \\r\\nMS OFFICE- Exprience - Less than 1 year months\\r\\nC- Exprience - Less than 1 year months\\r\\nmachine learning- Exprience - Less than 1 year months\\r\\ndata science- Exprience - Less than 1 year months\\r\\nMatlab- Exprience - Less than 1 year monthsCompany Details \\r\\ncompany - \\r\\ndescription - \""
      ]
     },
     "execution_count": 11,
     "metadata": {},
     "output_type": "execute_result"
    }
   ],
   "source": [
    "df['Resume'][5]"
   ]
  },
  {
   "cell_type": "code",
   "execution_count": 12,
   "metadata": {},
   "outputs": [
    {
     "data": {
      "text/html": [
       "<div>\n",
       "<style scoped>\n",
       "    .dataframe tbody tr th:only-of-type {\n",
       "        vertical-align: middle;\n",
       "    }\n",
       "\n",
       "    .dataframe tbody tr th {\n",
       "        vertical-align: top;\n",
       "    }\n",
       "\n",
       "    .dataframe thead th {\n",
       "        text-align: right;\n",
       "    }\n",
       "</style>\n",
       "<table border=\"1\" class=\"dataframe\">\n",
       "  <thead>\n",
       "    <tr style=\"text-align: right;\">\n",
       "      <th></th>\n",
       "      <th>Category</th>\n",
       "      <th>Resume</th>\n",
       "      <th>cleaned_resume</th>\n",
       "    </tr>\n",
       "  </thead>\n",
       "  <tbody>\n",
       "    <tr>\n",
       "      <th>0</th>\n",
       "      <td>Data Science</td>\n",
       "      <td>Skills * Programming Languages: Python (pandas...</td>\n",
       "      <td>skills programming languages python pandas num...</td>\n",
       "    </tr>\n",
       "    <tr>\n",
       "      <th>1</th>\n",
       "      <td>Data Science</td>\n",
       "      <td>Education Details \\r\\nMay 2013 to May 2017 B.E...</td>\n",
       "      <td>education details may 2013 to may 2017 e uit r...</td>\n",
       "    </tr>\n",
       "    <tr>\n",
       "      <th>2</th>\n",
       "      <td>Data Science</td>\n",
       "      <td>Areas of Interest Deep Learning, Control Syste...</td>\n",
       "      <td>areas of interest deep learning control system...</td>\n",
       "    </tr>\n",
       "    <tr>\n",
       "      <th>3</th>\n",
       "      <td>Data Science</td>\n",
       "      <td>Skills â¢ R â¢ Python â¢ SAP HANA â¢ Table...</td>\n",
       "      <td>skills â â python â sap hana â tableau â sap h...</td>\n",
       "    </tr>\n",
       "    <tr>\n",
       "      <th>4</th>\n",
       "      <td>Data Science</td>\n",
       "      <td>Education Details \\r\\n MCA   YMCAUST,  Faridab...</td>\n",
       "      <td>education details mca ymcaust faridabad haryan...</td>\n",
       "    </tr>\n",
       "  </tbody>\n",
       "</table>\n",
       "</div>"
      ],
      "text/plain": [
       "       Category                                             Resume  \\\n",
       "0  Data Science  Skills * Programming Languages: Python (pandas...   \n",
       "1  Data Science  Education Details \\r\\nMay 2013 to May 2017 B.E...   \n",
       "2  Data Science  Areas of Interest Deep Learning, Control Syste...   \n",
       "3  Data Science  Skills â¢ R â¢ Python â¢ SAP HANA â¢ Table...   \n",
       "4  Data Science  Education Details \\r\\n MCA   YMCAUST,  Faridab...   \n",
       "\n",
       "                                      cleaned_resume  \n",
       "0  skills programming languages python pandas num...  \n",
       "1  education details may 2013 to may 2017 e uit r...  \n",
       "2  areas of interest deep learning control system...  \n",
       "3  skills â â python â sap hana â tableau â sap h...  \n",
       "4  education details mca ymcaust faridabad haryan...  "
      ]
     },
     "execution_count": 12,
     "metadata": {},
     "output_type": "execute_result"
    }
   ],
   "source": [
    "df.head()"
   ]
  },
  {
   "cell_type": "code",
   "execution_count": null,
   "metadata": {},
   "outputs": [],
   "source": [
    "'''\n",
    "sentences = []\n",
    "for i in df['cleaned_resume']:\n",
    "    sentence = []\n",
    "    words = nltk.word_tokenize(i)\n",
    "    for word in words:\n",
    "        if word not in stopwords.words('english'):\n",
    "            sentence.append(word)\n",
    "    sentences.append(\" \".join(sentence))\n",
    "'''"
   ]
  },
  {
   "cell_type": "code",
   "execution_count": 13,
   "metadata": {},
   "outputs": [],
   "source": [
    "def clean(text):\n",
    "    sentence = \"\"\n",
    "    words = nltk.word_tokenize(text)\n",
    "    stop_words = set(stopwords.words('english'))\n",
    "    for word in words:\n",
    "        if word not in stop_words:\n",
    "            sentence = sentence + \" \" + word\n",
    "    return sentence\n",
    "\n",
    "df['cleaned'] = df['cleaned_resume'].apply(lambda x: clean(x))"
   ]
  },
  {
   "cell_type": "code",
   "execution_count": 21,
   "metadata": {},
   "outputs": [
    {
     "data": {
      "text/html": [
       "<div>\n",
       "<style scoped>\n",
       "    .dataframe tbody tr th:only-of-type {\n",
       "        vertical-align: middle;\n",
       "    }\n",
       "\n",
       "    .dataframe tbody tr th {\n",
       "        vertical-align: top;\n",
       "    }\n",
       "\n",
       "    .dataframe thead th {\n",
       "        text-align: right;\n",
       "    }\n",
       "</style>\n",
       "<table border=\"1\" class=\"dataframe\">\n",
       "  <thead>\n",
       "    <tr style=\"text-align: right;\">\n",
       "      <th></th>\n",
       "      <th>Category</th>\n",
       "      <th>Resume</th>\n",
       "      <th>cleaned_resume</th>\n",
       "      <th>cleaned</th>\n",
       "    </tr>\n",
       "  </thead>\n",
       "  <tbody>\n",
       "    <tr>\n",
       "      <th>0</th>\n",
       "      <td>Data Science</td>\n",
       "      <td>Skills * Programming Languages: Python (pandas...</td>\n",
       "      <td>skills programming languages python pandas num...</td>\n",
       "      <td>skills programming languages python pandas nu...</td>\n",
       "    </tr>\n",
       "    <tr>\n",
       "      <th>1</th>\n",
       "      <td>Data Science</td>\n",
       "      <td>Education Details \\r\\nMay 2013 to May 2017 B.E...</td>\n",
       "      <td>education details may 2013 to may 2017 e uit r...</td>\n",
       "      <td>education details may 2013 may 2017 e uit rgp...</td>\n",
       "    </tr>\n",
       "    <tr>\n",
       "      <th>2</th>\n",
       "      <td>Data Science</td>\n",
       "      <td>Areas of Interest Deep Learning, Control Syste...</td>\n",
       "      <td>areas of interest deep learning control system...</td>\n",
       "      <td>areas interest deep learning control system d...</td>\n",
       "    </tr>\n",
       "    <tr>\n",
       "      <th>3</th>\n",
       "      <td>Data Science</td>\n",
       "      <td>Skills â¢ R â¢ Python â¢ SAP HANA â¢ Table...</td>\n",
       "      <td>skills â â python â sap hana â tableau â sap h...</td>\n",
       "      <td>skills â â python â sap hana â tableau â sap ...</td>\n",
       "    </tr>\n",
       "    <tr>\n",
       "      <th>4</th>\n",
       "      <td>Data Science</td>\n",
       "      <td>Education Details \\r\\n MCA   YMCAUST,  Faridab...</td>\n",
       "      <td>education details mca ymcaust faridabad haryan...</td>\n",
       "      <td>education details mca ymcaust faridabad harya...</td>\n",
       "    </tr>\n",
       "  </tbody>\n",
       "</table>\n",
       "</div>"
      ],
      "text/plain": [
       "       Category                                             Resume  \\\n",
       "0  Data Science  Skills * Programming Languages: Python (pandas...   \n",
       "1  Data Science  Education Details \\r\\nMay 2013 to May 2017 B.E...   \n",
       "2  Data Science  Areas of Interest Deep Learning, Control Syste...   \n",
       "3  Data Science  Skills â¢ R â¢ Python â¢ SAP HANA â¢ Table...   \n",
       "4  Data Science  Education Details \\r\\n MCA   YMCAUST,  Faridab...   \n",
       "\n",
       "                                      cleaned_resume  \\\n",
       "0  skills programming languages python pandas num...   \n",
       "1  education details may 2013 to may 2017 e uit r...   \n",
       "2  areas of interest deep learning control system...   \n",
       "3  skills â â python â sap hana â tableau â sap h...   \n",
       "4  education details mca ymcaust faridabad haryan...   \n",
       "\n",
       "                                             cleaned  \n",
       "0   skills programming languages python pandas nu...  \n",
       "1   education details may 2013 may 2017 e uit rgp...  \n",
       "2   areas interest deep learning control system d...  \n",
       "3   skills â â python â sap hana â tableau â sap ...  \n",
       "4   education details mca ymcaust faridabad harya...  "
      ]
     },
     "execution_count": 21,
     "metadata": {},
     "output_type": "execute_result"
    }
   ],
   "source": [
    "df.head()"
   ]
  },
  {
   "cell_type": "code",
   "execution_count": 22,
   "metadata": {},
   "outputs": [],
   "source": [
    "df = df.drop(['Resume','cleaned_resume'],axis=1)"
   ]
  },
  {
   "cell_type": "code",
   "execution_count": 23,
   "metadata": {},
   "outputs": [
    {
     "data": {
      "text/html": [
       "<div>\n",
       "<style scoped>\n",
       "    .dataframe tbody tr th:only-of-type {\n",
       "        vertical-align: middle;\n",
       "    }\n",
       "\n",
       "    .dataframe tbody tr th {\n",
       "        vertical-align: top;\n",
       "    }\n",
       "\n",
       "    .dataframe thead th {\n",
       "        text-align: right;\n",
       "    }\n",
       "</style>\n",
       "<table border=\"1\" class=\"dataframe\">\n",
       "  <thead>\n",
       "    <tr style=\"text-align: right;\">\n",
       "      <th></th>\n",
       "      <th>Category</th>\n",
       "      <th>cleaned</th>\n",
       "    </tr>\n",
       "  </thead>\n",
       "  <tbody>\n",
       "    <tr>\n",
       "      <th>0</th>\n",
       "      <td>Data Science</td>\n",
       "      <td>skills programming languages python pandas nu...</td>\n",
       "    </tr>\n",
       "    <tr>\n",
       "      <th>1</th>\n",
       "      <td>Data Science</td>\n",
       "      <td>education details may 2013 may 2017 e uit rgp...</td>\n",
       "    </tr>\n",
       "    <tr>\n",
       "      <th>2</th>\n",
       "      <td>Data Science</td>\n",
       "      <td>areas interest deep learning control system d...</td>\n",
       "    </tr>\n",
       "    <tr>\n",
       "      <th>3</th>\n",
       "      <td>Data Science</td>\n",
       "      <td>skills â â python â sap hana â tableau â sap ...</td>\n",
       "    </tr>\n",
       "    <tr>\n",
       "      <th>4</th>\n",
       "      <td>Data Science</td>\n",
       "      <td>education details mca ymcaust faridabad harya...</td>\n",
       "    </tr>\n",
       "  </tbody>\n",
       "</table>\n",
       "</div>"
      ],
      "text/plain": [
       "       Category                                            cleaned\n",
       "0  Data Science   skills programming languages python pandas nu...\n",
       "1  Data Science   education details may 2013 may 2017 e uit rgp...\n",
       "2  Data Science   areas interest deep learning control system d...\n",
       "3  Data Science   skills â â python â sap hana â tableau â sap ...\n",
       "4  Data Science   education details mca ymcaust faridabad harya..."
      ]
     },
     "execution_count": 23,
     "metadata": {},
     "output_type": "execute_result"
    }
   ],
   "source": [
    "df.head()"
   ]
  },
  {
   "cell_type": "code",
   "execution_count": 24,
   "metadata": {},
   "outputs": [],
   "source": [
    "vectorizer = TfidfVectorizer(max_features=5000,\n",
    "                            min_df=5,\n",
    "                            max_df=0.6,\n",
    "                            stop_words=stopwords.words('english')\n",
    "                            )\n",
    "X = vectorizer.fit_transform(df['cleaned'].to_list()).toarray()"
   ]
  },
  {
   "cell_type": "code",
   "execution_count": 28,
   "metadata": {},
   "outputs": [],
   "source": [
    "transformer = TfidfTransformer()\n",
    "X = transformer.fit_transform(X).toarray()    "
   ]
  },
  {
   "cell_type": "code",
   "execution_count": 52,
   "metadata": {},
   "outputs": [],
   "source": [
    "from sklearn.preprocessing import LabelEncoder\n",
    "\n",
    "var_mod = ['Category']\n",
    "le = LabelEncoder()\n",
    "for i in var_mod:\n",
    "    df[i] = le.fit_transform(df[i])"
   ]
  },
  {
   "cell_type": "code",
   "execution_count": 53,
   "metadata": {},
   "outputs": [
    {
     "data": {
      "text/html": [
       "<div>\n",
       "<style scoped>\n",
       "    .dataframe tbody tr th:only-of-type {\n",
       "        vertical-align: middle;\n",
       "    }\n",
       "\n",
       "    .dataframe tbody tr th {\n",
       "        vertical-align: top;\n",
       "    }\n",
       "\n",
       "    .dataframe thead th {\n",
       "        text-align: right;\n",
       "    }\n",
       "</style>\n",
       "<table border=\"1\" class=\"dataframe\">\n",
       "  <thead>\n",
       "    <tr style=\"text-align: right;\">\n",
       "      <th></th>\n",
       "      <th>Category</th>\n",
       "      <th>cleaned</th>\n",
       "    </tr>\n",
       "  </thead>\n",
       "  <tbody>\n",
       "    <tr>\n",
       "      <th>0</th>\n",
       "      <td>6</td>\n",
       "      <td>skills programming languages python pandas nu...</td>\n",
       "    </tr>\n",
       "    <tr>\n",
       "      <th>1</th>\n",
       "      <td>6</td>\n",
       "      <td>education details may 2013 may 2017 e uit rgp...</td>\n",
       "    </tr>\n",
       "    <tr>\n",
       "      <th>2</th>\n",
       "      <td>6</td>\n",
       "      <td>areas interest deep learning control system d...</td>\n",
       "    </tr>\n",
       "    <tr>\n",
       "      <th>3</th>\n",
       "      <td>6</td>\n",
       "      <td>skills â â python â sap hana â tableau â sap ...</td>\n",
       "    </tr>\n",
       "    <tr>\n",
       "      <th>4</th>\n",
       "      <td>6</td>\n",
       "      <td>education details mca ymcaust faridabad harya...</td>\n",
       "    </tr>\n",
       "  </tbody>\n",
       "</table>\n",
       "</div>"
      ],
      "text/plain": [
       "   Category                                            cleaned\n",
       "0         6   skills programming languages python pandas nu...\n",
       "1         6   education details may 2013 may 2017 e uit rgp...\n",
       "2         6   areas interest deep learning control system d...\n",
       "3         6   skills â â python â sap hana â tableau â sap ...\n",
       "4         6   education details mca ymcaust faridabad harya..."
      ]
     },
     "execution_count": 53,
     "metadata": {},
     "output_type": "execute_result"
    }
   ],
   "source": [
    "df.head()"
   ]
  },
  {
   "cell_type": "code",
   "execution_count": 54,
   "metadata": {},
   "outputs": [],
   "source": [
    "X_train,X_test,y_train,y_test = train_test_split(X,df['Category'],test_size=0.2)"
   ]
  },
  {
   "cell_type": "markdown",
   "metadata": {},
   "source": [
    "## Model selection"
   ]
  },
  {
   "cell_type": "code",
   "execution_count": 55,
   "metadata": {},
   "outputs": [],
   "source": [
    "from sklearn.linear_model import LogisticRegression\n",
    "from sklearn.ensemble import RandomForestClassifier\n",
    "from sklearn.svm import LinearSVC\n",
    "from sklearn.naive_bayes import MultinomialNB\n",
    "\n",
    "from sklearn.model_selection import cross_val_score\n",
    "\n",
    "models = [RandomForestClassifier(n_estimators=200,max_depth=3),\n",
    "         LinearSVC(),\n",
    "         LogisticRegression(),\n",
    "         MultinomialNB()\n",
    "         ]"
   ]
  },
  {
   "cell_type": "code",
   "execution_count": 56,
   "metadata": {},
   "outputs": [
    {
     "data": {
      "image/png": "[encoded data removed]",
      "text/plain": [
       "<Figure size 432x288 with 1 Axes>"
      ]
     },
     "metadata": {
      "needs_background": "light"
     },
     "output_type": "display_data"
    }
   ],
   "source": [
    "CV = 5\n",
    "cv_df = pd.DataFrame(index=range(CV * len(models)))\n",
    "entries = []\n",
    "for model in models:\n",
    "    model_name = model.__class__.__name__\n",
    "    accuracies = cross_val_score(model, X, df['Category'], scoring='accuracy', cv=CV)\n",
    "    for fold_idx, accuracy in enumerate(accuracies):\n",
    "        entries.append((model_name, fold_idx, accuracy))\n",
    "cv_df = pd.DataFrame(entries, columns=['model_name', 'fold_idx', 'accuracy'])\n",
    "import seaborn as sns\n",
    "sns.boxplot(x='model_name', y='accuracy', data=cv_df)\n",
    "sns.stripplot(x='model_name', y='accuracy', data=cv_df, \n",
    "              size=8, jitter=True, edgecolor=\"gray\", linewidth=2)\n",
    "plt.show()"
   ]
  },
  {
   "cell_type": "markdown",
   "metadata": {},
   "source": [
    "#### 1. Random Forest Classifier"
   ]
  },
  {
   "cell_type": "code",
   "execution_count": 60,
   "metadata": {},
   "outputs": [
    {
     "name": "stdout",
     "output_type": "stream",
     "text": [
      "Accuracy:  0.9896373056994818\n"
     ]
    }
   ],
   "source": [
    "rf = RandomForestClassifier()\n",
    "rf.fit(X_train,y_train)\n",
    "y_pred = rf.predict(X_test)\n",
    "\n",
    "print(\"Accuracy: \",accuracy_score(y_test,y_pred))\n"
   ]
  },
  {
   "cell_type": "code",
   "execution_count": 63,
   "metadata": {},
   "outputs": [],
   "source": [
    "y_pred_inverse = le.inverse_transform(y_pred)\n",
    "y_test_inverse = le.inverse_transform(y_test)"
   ]
  },
  {
   "cell_type": "code",
   "execution_count": 67,
   "metadata": {},
   "outputs": [
    {
     "data": {
      "image/png": "[encoded data removed]",
      "text/plain": [
       "<Figure size 720x720 with 2 Axes>"
      ]
     },
     "metadata": {
      "needs_background": "light"
     },
     "output_type": "display_data"
    }
   ],
   "source": [
    "cnf_matrix = confusion_matrix(y_test_inverse,y_pred_inverse)\n",
    "plt.figure(figsize=(10,10))\n",
    "sns.heatmap(cnf_matrix,annot=True,fmt='d')\n",
    "plt.ylabel('Actual')\n",
    "plt.xlabel('Predicted')\n",
    "plt.show()"
   ]
  },
  {
   "cell_type": "markdown",
   "metadata": {},
   "source": [
    "### 2. Logistic regresion"
   ]
  },
  {
   "cell_type": "code",
   "execution_count": 68,
   "metadata": {},
   "outputs": [
    {
     "name": "stdout",
     "output_type": "stream",
     "text": [
      "Accuracy:  0.9844559585492227\n"
     ]
    }
   ],
   "source": [
    "logistic = LogisticRegression()\n",
    "logistic.fit(X_train,y_train)\n",
    "y_pred = logistic.predict(X_test)\n",
    "\n",
    "print(\"Accuracy: \",accuracy_score(y_test,y_pred))"
   ]
  },
  {
   "cell_type": "code",
   "execution_count": 70,
   "metadata": {},
   "outputs": [
    {
     "data": {
      "image/png": "[encoded data removed]",
      "text/plain": [
       "<Figure size 720x720 with 2 Axes>"
      ]
     },
     "metadata": {
      "needs_background": "light"
     },
     "output_type": "display_data"
    }
   ],
   "source": [
    "cnf_matrix = confusion_matrix(y_test,y_pred)\n",
    "plt.figure(figsize=(10,10))\n",
    "sns.heatmap(cnf_matrix,annot=True,fmt='d')\n",
    "plt.ylabel('Actual')\n",
    "plt.xlabel('Predicted')\n",
    "plt.show()"
   ]
  },
  {
   "cell_type": "markdown",
   "metadata": {},
   "source": [
    "### 3. MultinomialNB"
   ]
  },
  {
   "cell_type": "code",
   "execution_count": 71,
   "metadata": {},
   "outputs": [
    {
     "name": "stdout",
     "output_type": "stream",
     "text": [
      "Accuracy:  0.9844559585492227\n"
     ]
    }
   ],
   "source": [
    "naive = MultinomialNB()\n",
    "naive.fit(X_train,y_train)\n",
    "y_pred = naive.predict(X_test)\n",
    "\n",
    "print(\"Accuracy: \",accuracy_score(y_test,y_pred))"
   ]
  },
  {
   "cell_type": "markdown",
   "metadata": {},
   "source": [
    "### 4. LinearSVC"
   ]
  },
  {
   "cell_type": "code",
   "execution_count": 72,
   "metadata": {},
   "outputs": [
    {
     "name": "stdout",
     "output_type": "stream",
     "text": [
      "Accuracy:  0.9896373056994818\n"
     ]
    }
   ],
   "source": [
    "svc = LinearSVC()\n",
    "svc.fit(X_train,y_train)\n",
    "y_pred = svc.predict(X_test)\n",
    "\n",
    "print(\"Accuracy: \",accuracy_score(y_test,y_pred))"
   ]
  },
  {
   "cell_type": "code",
   "execution_count": 81,
   "metadata": {},
   "outputs": [],
   "source": [
    "inverse = le.inverse_transform(y_pred)"
   ]
  },
  {
   "cell_type": "code",
   "execution_count": 84,
   "metadata": {},
   "outputs": [
    {
     "name": "stdout",
     "output_type": "stream",
     "text": [
      "2 Automation Testing\n",
      "17 Network Security Engineer\n",
      "19 PMO\n",
      "15 Java Developer\n",
      "2 Automation Testing\n",
      "4 Business Analyst\n",
      "21 SAP Developer\n",
      "23 Testing\n",
      "20 Python Developer\n",
      "23 Testing\n",
      "14 Health and fitness\n",
      "10 ETL Developer\n",
      "21 SAP Developer\n",
      "7 Database\n",
      "18 Operations Manager\n",
      "13 Hadoop\n",
      "4 Business Analyst\n",
      "20 Python Developer\n",
      "12 HR\n",
      "15 Java Developer\n",
      "10 ETL Developer\n",
      "23 Testing\n",
      "12 HR\n",
      "20 Python Developer\n",
      "10 ETL Developer\n",
      "16 Mechanical Engineer\n",
      "9 DotNet Developer\n",
      "23 Testing\n",
      "17 Network Security Engineer\n",
      "14 Health and fitness\n",
      "4 Business Analyst\n",
      "22 Sales\n",
      "13 Hadoop\n",
      "21 SAP Developer\n",
      "24 Web Designing\n",
      "19 PMO\n",
      "16 Mechanical Engineer\n",
      "12 HR\n",
      "8 DevOps Engineer\n",
      "8 DevOps Engineer\n",
      "24 Web Designing\n",
      "7 Database\n",
      "17 Network Security Engineer\n",
      "7 Database\n",
      "15 Java Developer\n",
      "17 Network Security Engineer\n",
      "4 Business Analyst\n",
      "23 Testing\n",
      "9 DotNet Developer\n",
      "14 Health and fitness\n",
      "1 Arts\n",
      "15 Java Developer\n",
      "1 Arts\n",
      "4 Business Analyst\n",
      "13 Hadoop\n",
      "22 Sales\n",
      "12 HR\n",
      "23 Testing\n",
      "18 Operations Manager\n",
      "13 Hadoop\n",
      "11 Electrical Engineering\n",
      "16 Mechanical Engineer\n",
      "15 Java Developer\n",
      "20 Python Developer\n",
      "18 Operations Manager\n",
      "0 Advocate\n",
      "15 Java Developer\n",
      "11 Electrical Engineering\n",
      "22 Sales\n",
      "7 Database\n",
      "3 Blockchain\n",
      "13 Hadoop\n",
      "6 Data Science\n",
      "13 Hadoop\n",
      "2 Automation Testing\n",
      "9 DotNet Developer\n",
      "11 Electrical Engineering\n",
      "11 Electrical Engineering\n",
      "10 ETL Developer\n",
      "24 Web Designing\n",
      "15 Java Developer\n",
      "1 Arts\n",
      "23 Testing\n",
      "20 Python Developer\n",
      "4 Business Analyst\n",
      "17 Network Security Engineer\n",
      "8 DevOps Engineer\n",
      "3 Blockchain\n",
      "15 Java Developer\n",
      "15 Java Developer\n",
      "16 Mechanical Engineer\n",
      "22 Sales\n",
      "24 Web Designing\n",
      "15 Java Developer\n",
      "14 Health and fitness\n",
      "13 Hadoop\n",
      "6 Data Science\n",
      "12 HR\n",
      "23 Testing\n",
      "1 Arts\n",
      "15 Java Developer\n",
      "12 HR\n",
      "18 Operations Manager\n",
      "10 ETL Developer\n",
      "11 Electrical Engineering\n",
      "15 Java Developer\n",
      "8 DevOps Engineer\n",
      "18 Operations Manager\n",
      "9 DotNet Developer\n",
      "17 Network Security Engineer\n",
      "22 Sales\n",
      "6 Data Science\n",
      "21 SAP Developer\n",
      "0 Advocate\n",
      "11 Electrical Engineering\n",
      "1 Arts\n",
      "13 Hadoop\n",
      "20 Python Developer\n",
      "5 Civil Engineer\n",
      "22 Sales\n",
      "19 PMO\n",
      "17 Network Security Engineer\n",
      "1 Arts\n",
      "22 Sales\n",
      "12 HR\n",
      "18 Operations Manager\n",
      "10 ETL Developer\n",
      "10 ETL Developer\n",
      "5 Civil Engineer\n",
      "13 Hadoop\n",
      "22 Sales\n",
      "11 Electrical Engineering\n",
      "3 Blockchain\n",
      "23 Testing\n",
      "6 Data Science\n",
      "23 Testing\n",
      "7 Database\n",
      "2 Automation Testing\n",
      "10 ETL Developer\n",
      "3 Blockchain\n",
      "9 DotNet Developer\n",
      "2 Automation Testing\n",
      "12 HR\n",
      "7 Database\n",
      "6 Data Science\n",
      "12 HR\n",
      "3 Blockchain\n",
      "1 Arts\n",
      "9 DotNet Developer\n",
      "19 PMO\n",
      "17 Network Security Engineer\n",
      "18 Operations Manager\n",
      "6 Data Science\n",
      "14 Health and fitness\n",
      "2 Automation Testing\n",
      "1 Arts\n",
      "9 DotNet Developer\n",
      "15 Java Developer\n",
      "20 Python Developer\n",
      "8 DevOps Engineer\n",
      "2 Automation Testing\n",
      "4 Business Analyst\n",
      "13 Hadoop\n",
      "19 PMO\n",
      "24 Web Designing\n",
      "10 ETL Developer\n",
      "19 PMO\n",
      "24 Web Designing\n",
      "15 Java Developer\n",
      "13 Hadoop\n",
      "7 Database\n",
      "22 Sales\n",
      "23 Testing\n",
      "18 Operations Manager\n",
      "1 Arts\n",
      "16 Mechanical Engineer\n",
      "6 Data Science\n",
      "12 HR\n",
      "20 Python Developer\n",
      "15 Java Developer\n",
      "17 Network Security Engineer\n",
      "8 DevOps Engineer\n",
      "1 Arts\n",
      "8 DevOps Engineer\n",
      "6 Data Science\n",
      "23 Testing\n",
      "9 DotNet Developer\n",
      "12 HR\n",
      "11 Electrical Engineering\n",
      "17 Network Security Engineer\n",
      "10 ETL Developer\n",
      "8 DevOps Engineer\n",
      "7 Database\n"
     ]
    }
   ],
   "source": [
    "for i in range(len(y_pred)):\n",
    "    print(y_pred[i],inverse[i])"
   ]
  },
  {
   "cell_type": "code",
   "execution_count": null,
   "metadata": {},
   "outputs": [],
   "source": []
  }
 ],
 "metadata": {
  "kernelspec": {
   "display_name": "Python 3",
   "language": "python",
   "name": "python3"
  },
  "language_info": {
   "codemirror_mode": {
    "name": "ipython",
    "version": 3
   },
   "file_extension": ".py",
   "mimetype": "text/x-python",
   "name": "python",
   "nbconvert_exporter": "python",
   "pygments_lexer": "ipython3",
   "version": "3.7.4"
  }
 },
 "nbformat": 4,
 "nbformat_minor": 2
}
